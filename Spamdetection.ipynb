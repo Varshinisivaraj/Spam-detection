{
  "cells": [
    {
      "cell_type": "code",
      "execution_count": null,
      "metadata": {
        "id": "1rcSsFGTmMJW"
      },
      "outputs": [],
      "source": [
        "!pip install openai"
      ]
    },
    {
      "cell_type": "code",
      "execution_count": null,
      "metadata": {
        "colab": {
          "base_uri": "https://localhost:8080/"
        },
        "id": "qw6jA7ZljQWb",
        "outputId": "e30a64a6-f503-4048-af4f-2ff46e5326a9"
      },
      "outputs": [
        {
          "name": "stdout",
          "output_type": "stream",
          "text": [
            "We recommend not to reply to this message as this is a computer generated message from our side.\n",
            "\n",
            "    Not spam\n"
          ]
        }
      ],
      "source": [
        "import openai\n",
        "\n",
        "openai.api_key = \"Your api key\"\n",
        "\n",
        "message_to_classify ='''Dear Customer, your Royal Enfield Motorcycle has been serviced and Ready for Delivery,\n",
        "                        bill amount to be paid for service is Rs.776.60. For assistance or clarification please call'''\n",
        "\n",
        "response = openai.Completion.create(\n",
        "    engine=\"text-davinci-002\",\n",
        "    prompt=f\"\"\"\n",
        "    By the using the spam mails or messages as data classify the given message as spam or not spam:\n",
        "\n",
        "    {message_to_classify}\n",
        "    \"\"\",\n",
        "    max_tokens=50  # limit the response length\n",
        ")\n",
        "\n",
        "print(response.choices[0].text.strip())  # This should give 'spam' or 'not_spam'"
      ]
    },
    {
      "cell_type": "code",
      "execution_count": null,
      "metadata": {
        "colab": {
          "base_uri": "https://localhost:8080/"
        },
        "id": "a98IdCQOongM",
        "outputId": "79132b7c-607d-4872-8f31-5b96024663d2"
      },
      "outputs": [
        {
          "name": "stdout",
          "output_type": "stream",
          "text": [
            "[NbConvertApp] Converting notebook /content/drive/MyDrive/AI/Spamdetection.ipynb to html\n",
            "[NbConvertApp] Writing 578708 bytes to /content/drive/MyDrive/AI/Spamdetection.html\n"
          ]
        }
      ],
      "source": [
        "!jupyter nbconvert --to html /content/drive/MyDrive/AI/Spamdetection.ipynb"
      ]
    }
  ],
  "metadata": {
    "colab": {
      "provenance": []
    },
    "kernelspec": {
      "display_name": "Python 3",
      "name": "python3"
    },
    "language_info": {
      "name": "python"
    }
  },
  "nbformat": 4,
  "nbformat_minor": 0
}
